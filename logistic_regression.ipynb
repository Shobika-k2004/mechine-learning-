{
  "nbformat": 4,
  "nbformat_minor": 0,
  "metadata": {
    "colab": {
      "provenance": []
    },
    "kernelspec": {
      "name": "python3",
      "display_name": "Python 3"
    },
    "language_info": {
      "name": "python"
    }
  },
  "cells": [
    {
      "cell_type": "markdown",
      "source": [
        "import libraries\n"
      ],
      "metadata": {
        "id": "WshlCL_zBCup"
      }
    },
    {
      "cell_type": "code",
      "source": [],
      "metadata": {
        "id": "fKRdHHCZBCHc"
      },
      "execution_count": null,
      "outputs": []
    },
    {
      "cell_type": "code",
      "execution_count": 3,
      "metadata": {
        "id": "Z3quJID4sBz5"
      },
      "outputs": [],
      "source": [
        "import pandas as pd\n",
        "import numpy as np\n",
        "import matplotlib.pyplot as plt"
      ]
    },
    {
      "cell_type": "markdown",
      "source": [
        "read csv file"
      ],
      "metadata": {
        "id": "U2zVqdFRBGav"
      }
    },
    {
      "cell_type": "code",
      "source": [
        "dataset = pd.read_csv(\"/content/User_Data.csv\")"
      ],
      "metadata": {
        "id": "UkJ5jPI6sCi2"
      },
      "execution_count": 4,
      "outputs": []
    },
    {
      "cell_type": "markdown",
      "source": [
        "taking particular columns"
      ],
      "metadata": {
        "id": "2oaL6U9_BNPT"
      }
    },
    {
      "cell_type": "code",
      "source": [
        "# input\n",
        "x = dataset.iloc[:, [2, 3]].values\n",
        "\n",
        "# output\n",
        "y = dataset.iloc[:, 4].values"
      ],
      "metadata": {
        "id": "hAv82AissSjc"
      },
      "execution_count": 5,
      "outputs": []
    },
    {
      "cell_type": "markdown",
      "source": [
        "split the data set"
      ],
      "metadata": {
        "id": "V7TBFgRqBQh4"
      }
    },
    {
      "cell_type": "code",
      "source": [
        "from sklearn.model_selection import train_test_split\n",
        "\n",
        "xtrain, xtest, ytrain, ytest = train_test_split(\n",
        "\tx, y, test_size=0.25, random_state=0)\n"
      ],
      "metadata": {
        "id": "ygJns7FesZOE"
      },
      "execution_count": 6,
      "outputs": []
    },
    {
      "cell_type": "markdown",
      "source": [],
      "metadata": {
        "id": "SHzqJHszBXtW"
      }
    },
    {
      "cell_type": "code",
      "source": [
        "from sklearn.preprocessing import StandardScaler\n",
        "\n",
        "sc_x = StandardScaler()\n",
        "xtrain = sc_x.fit_transform(xtrain)\n",
        "xtest = sc_x.transform(xtest)\n",
        "\n",
        "print (xtrain[0:10, :])\n"
      ],
      "metadata": {
        "colab": {
          "base_uri": "https://localhost:8080/"
        },
        "id": "EcJv5CzLsb6F",
        "outputId": "f7f56943-6840-46c1-e42b-534efa7951d9"
      },
      "execution_count": 7,
      "outputs": [
        {
          "output_type": "stream",
          "name": "stdout",
          "text": [
            "[[ 0.58164944 -0.88670699]\n",
            " [-0.60673761  1.46173768]\n",
            " [-0.01254409 -0.5677824 ]\n",
            " [-0.60673761  1.89663484]\n",
            " [ 1.37390747 -1.40858358]\n",
            " [ 1.47293972  0.99784738]\n",
            " [ 0.08648817 -0.79972756]\n",
            " [-0.01254409 -0.24885782]\n",
            " [-0.21060859 -0.5677824 ]\n",
            " [-0.21060859 -0.19087153]]\n"
          ]
        }
      ]
    },
    {
      "cell_type": "code",
      "source": [
        "from sklearn.linear_model import LinearRegression\n",
        "predictor=LinearRegression()\n",
        "predictor.fit(xtrain,ytrain)\n"
      ],
      "metadata": {
        "colab": {
          "base_uri": "https://localhost:8080/",
          "height": 74
        },
        "id": "BvWX2rZGsfXj",
        "outputId": "df2d653d-1a7d-4333-93fc-577622201226"
      },
      "execution_count": 15,
      "outputs": [
        {
          "output_type": "execute_result",
          "data": {
            "text/plain": [
              "LinearRegression()"
            ],
            "text/html": [
              "<style>#sk-container-id-2 {color: black;background-color: white;}#sk-container-id-2 pre{padding: 0;}#sk-container-id-2 div.sk-toggleable {background-color: white;}#sk-container-id-2 label.sk-toggleable__label {cursor: pointer;display: block;width: 100%;margin-bottom: 0;padding: 0.3em;box-sizing: border-box;text-align: center;}#sk-container-id-2 label.sk-toggleable__label-arrow:before {content: \"▸\";float: left;margin-right: 0.25em;color: #696969;}#sk-container-id-2 label.sk-toggleable__label-arrow:hover:before {color: black;}#sk-container-id-2 div.sk-estimator:hover label.sk-toggleable__label-arrow:before {color: black;}#sk-container-id-2 div.sk-toggleable__content {max-height: 0;max-width: 0;overflow: hidden;text-align: left;background-color: #f0f8ff;}#sk-container-id-2 div.sk-toggleable__content pre {margin: 0.2em;color: black;border-radius: 0.25em;background-color: #f0f8ff;}#sk-container-id-2 input.sk-toggleable__control:checked~div.sk-toggleable__content {max-height: 200px;max-width: 100%;overflow: auto;}#sk-container-id-2 input.sk-toggleable__control:checked~label.sk-toggleable__label-arrow:before {content: \"▾\";}#sk-container-id-2 div.sk-estimator input.sk-toggleable__control:checked~label.sk-toggleable__label {background-color: #d4ebff;}#sk-container-id-2 div.sk-label input.sk-toggleable__control:checked~label.sk-toggleable__label {background-color: #d4ebff;}#sk-container-id-2 input.sk-hidden--visually {border: 0;clip: rect(1px 1px 1px 1px);clip: rect(1px, 1px, 1px, 1px);height: 1px;margin: -1px;overflow: hidden;padding: 0;position: absolute;width: 1px;}#sk-container-id-2 div.sk-estimator {font-family: monospace;background-color: #f0f8ff;border: 1px dotted black;border-radius: 0.25em;box-sizing: border-box;margin-bottom: 0.5em;}#sk-container-id-2 div.sk-estimator:hover {background-color: #d4ebff;}#sk-container-id-2 div.sk-parallel-item::after {content: \"\";width: 100%;border-bottom: 1px solid gray;flex-grow: 1;}#sk-container-id-2 div.sk-label:hover label.sk-toggleable__label {background-color: #d4ebff;}#sk-container-id-2 div.sk-serial::before {content: \"\";position: absolute;border-left: 1px solid gray;box-sizing: border-box;top: 0;bottom: 0;left: 50%;z-index: 0;}#sk-container-id-2 div.sk-serial {display: flex;flex-direction: column;align-items: center;background-color: white;padding-right: 0.2em;padding-left: 0.2em;position: relative;}#sk-container-id-2 div.sk-item {position: relative;z-index: 1;}#sk-container-id-2 div.sk-parallel {display: flex;align-items: stretch;justify-content: center;background-color: white;position: relative;}#sk-container-id-2 div.sk-item::before, #sk-container-id-2 div.sk-parallel-item::before {content: \"\";position: absolute;border-left: 1px solid gray;box-sizing: border-box;top: 0;bottom: 0;left: 50%;z-index: -1;}#sk-container-id-2 div.sk-parallel-item {display: flex;flex-direction: column;z-index: 1;position: relative;background-color: white;}#sk-container-id-2 div.sk-parallel-item:first-child::after {align-self: flex-end;width: 50%;}#sk-container-id-2 div.sk-parallel-item:last-child::after {align-self: flex-start;width: 50%;}#sk-container-id-2 div.sk-parallel-item:only-child::after {width: 0;}#sk-container-id-2 div.sk-dashed-wrapped {border: 1px dashed gray;margin: 0 0.4em 0.5em 0.4em;box-sizing: border-box;padding-bottom: 0.4em;background-color: white;}#sk-container-id-2 div.sk-label label {font-family: monospace;font-weight: bold;display: inline-block;line-height: 1.2em;}#sk-container-id-2 div.sk-label-container {text-align: center;}#sk-container-id-2 div.sk-container {/* jupyter's `normalize.less` sets `[hidden] { display: none; }` but bootstrap.min.css set `[hidden] { display: none !important; }` so we also need the `!important` here to be able to override the default hidden behavior on the sphinx rendered scikit-learn.org. See: https://github.com/scikit-learn/scikit-learn/issues/21755 */display: inline-block !important;position: relative;}#sk-container-id-2 div.sk-text-repr-fallback {display: none;}</style><div id=\"sk-container-id-2\" class=\"sk-top-container\"><div class=\"sk-text-repr-fallback\"><pre>LinearRegression()</pre><b>In a Jupyter environment, please rerun this cell to show the HTML representation or trust the notebook. <br />On GitHub, the HTML representation is unable to render, please try loading this page with nbviewer.org.</b></div><div class=\"sk-container\" hidden><div class=\"sk-item\"><div class=\"sk-estimator sk-toggleable\"><input class=\"sk-toggleable__control sk-hidden--visually\" id=\"sk-estimator-id-2\" type=\"checkbox\" checked><label for=\"sk-estimator-id-2\" class=\"sk-toggleable__label sk-toggleable__label-arrow\">LinearRegression</label><div class=\"sk-toggleable__content\"><pre>LinearRegression()</pre></div></div></div></div></div>"
            ]
          },
          "metadata": {},
          "execution_count": 15
        }
      ]
    },
    {
      "cell_type": "markdown",
      "source": [
        "predicting on testing data"
      ],
      "metadata": {
        "id": "Eo9SuGzhtSvq"
      }
    },
    {
      "cell_type": "code",
      "source": [
        "y_pred=predictor.predict(xtest)"
      ],
      "metadata": {
        "id": "aSzPz7yJtN7I"
      },
      "execution_count": 16,
      "outputs": []
    },
    {
      "cell_type": "code",
      "source": [
        "y_pred"
      ],
      "metadata": {
        "colab": {
          "base_uri": "https://localhost:8080/"
        },
        "id": "gA6Fym1Vs93Z",
        "outputId": "d508a82f-e4d1-4a41-f775-9942f3d80338"
      },
      "execution_count": 17,
      "outputs": [
        {
          "output_type": "execute_result",
          "data": {
            "text/plain": [
              "array([ 0.22077932,  0.29079271,  0.30761575,  0.18980184,  0.21081113,\n",
              "       -0.11863865, -0.03135746,  0.60145703, -0.17271853,  0.50363218,\n",
              "        0.0736363 ,  0.04354835,  0.28349311,  0.42200223, -0.04969815,\n",
              "        0.39026593,  0.36868118, -0.08023086,  1.05379649,  0.10238995,\n",
              "        0.19919457,  0.89472285,  0.37464648,  0.74370764, -0.19430329,\n",
              "        0.93642735,  0.16745827,  0.1670135 ,  0.3105984 ,  0.2702282 ,\n",
              "       -0.01529325,  0.37642555,  0.83606461,  0.27574874, -0.05147721,\n",
              "       -0.23467349, -0.01573801,  0.1570453 ,  0.04221405,  0.52984794,\n",
              "        0.14466992,  0.37851867,  0.12918118,  0.09464558,  0.66417082,\n",
              "        0.02850438,  0.38029773,  0.81892751, -0.10657733,  0.72345718,\n",
              "        1.07614007,  0.08734598,  0.23791642,  0.43584262,  0.99780684,\n",
              "        0.40771709,  0.17863006,  0.08703191,  0.49887046, -0.22528076,\n",
              "        0.00691962,  0.84634686, -0.11508053,  0.42720871, -0.30868977,\n",
              "        1.00510644,  0.06856052,  0.02850438,  0.33249722,  0.47487852,\n",
              "        0.51804803,  0.31536012, -0.08543734,  0.36899524,  0.14854211,\n",
              "       -0.11850794,  0.50972819,  0.38283562,  0.62874568,  0.75145201,\n",
              "        1.18798866,  0.97844592, -0.06309376, -0.0872164 ,  0.77753707,\n",
              "        0.51360037,  0.44091839,  1.16043861,  0.46922728,  0.40949615,\n",
              "        0.45164542,  0.63586193, -0.11685959, -0.1216213 ,  0.0491996 ,\n",
              "        0.1756474 , -0.05877681,  0.49157086,  0.71228539,  0.60653281])"
            ]
          },
          "metadata": {},
          "execution_count": 17
        }
      ]
    },
    {
      "cell_type": "code",
      "source": [],
      "metadata": {
        "id": "6Vdhh4S_tnUq"
      },
      "execution_count": null,
      "outputs": []
    },
    {
      "cell_type": "markdown",
      "source": [
        "confucion matrix"
      ],
      "metadata": {
        "id": "LQMxBvTVtpm_"
      }
    },
    {
      "cell_type": "code",
      "source": [
        "from sklearn.metrics import accuracy_score, precision_score, recall_score, f1_score\n",
        "\n",
        "# Assuming you have trained a classification model and made predictions\n",
        "y_true = [0, 1, 1, 0, 1]  # True class labels\n",
        "y_pred = [0, 1, 0, 1, 1]  # Predicted class labels\n",
        "\n",
        "# Calculate classification metrics\n",
        "accuracy = accuracy_score(y_true, y_pred)\n",
        "precision = precision_score(y_true, y_pred)\n",
        "recall = recall_score(y_true, y_pred)\n",
        "f1 = f1_score(y_true, y_pred)\n",
        "\n",
        "print(\"Accuracy:\", accuracy)\n",
        "print(\"Precision:\", precision)\n",
        "print(\"Recall:\", recall)\n",
        "print(\"F1-score:\", f1)\n",
        "\n"
      ],
      "metadata": {
        "colab": {
          "base_uri": "https://localhost:8080/"
        },
        "id": "6tFXFWfruKWS",
        "outputId": "a9d7a39b-b75b-4564-95f0-53c68b98a992"
      },
      "execution_count": 29,
      "outputs": [
        {
          "output_type": "stream",
          "name": "stdout",
          "text": [
            "Accuracy: 0.6\n",
            "Precision: 0.6666666666666666\n",
            "Recall: 0.6666666666666666\n",
            "F1-score: 0.6666666666666666\n"
          ]
        }
      ]
    },
    {
      "cell_type": "code",
      "source": [
        "from sklearn.datasets import make_classification\n"
      ],
      "metadata": {
        "id": "a_RGaXV1vDAe"
      },
      "execution_count": 30,
      "outputs": []
    },
    {
      "cell_type": "code",
      "source": [
        "X,y=make_classification(n_samples=100,n_features=2,n_classes=2,n_informative=2,n_redundant=0,random_state=42)"
      ],
      "metadata": {
        "id": "V5b_dwn01qIY"
      },
      "execution_count": 35,
      "outputs": []
    },
    {
      "cell_type": "code",
      "source": [
        "\n",
        "predictor.fit(X, y)\n",
        "\n",
        "x_min, x_max = X[:, 0].min() - 1, X[:, 0].max() + 1\n",
        "y_min, y_max = X[:, 1].min() - 1, X[:, 1].max() + 1"
      ],
      "metadata": {
        "id": "26KKB1ip2vS1"
      },
      "execution_count": 41,
      "outputs": []
    },
    {
      "cell_type": "code",
      "source": [
        "xx,yy=np.meshgrid(np.linspace(x_min,x_max,100),(y_min,y_max,100))\n",
        "z=predictor.predict(np.c_[xx.ravel(),yy.ravel()])"
      ],
      "metadata": {
        "id": "jXD_G8pQ31fM"
      },
      "execution_count": 45,
      "outputs": []
    },
    {
      "cell_type": "code",
      "source": [
        "z=z.reshape(xx.shape)\n",
        "z=z.reshape(yy.shape)"
      ],
      "metadata": {
        "id": "1niUHQgz8Dy3"
      },
      "execution_count": 56,
      "outputs": []
    },
    {
      "cell_type": "code",
      "source": [
        "plt.figure(figsize=(8,6))"
      ],
      "metadata": {
        "colab": {
          "base_uri": "https://localhost:8080/",
          "height": 52
        },
        "id": "hiW_HrF69Y8x",
        "outputId": "5a7cbf64-a8ef-471f-e6b2-bd0527f68ee8"
      },
      "execution_count": 49,
      "outputs": [
        {
          "output_type": "execute_result",
          "data": {
            "text/plain": [
              "<Figure size 800x600 with 0 Axes>"
            ]
          },
          "metadata": {},
          "execution_count": 49
        },
        {
          "output_type": "display_data",
          "data": {
            "text/plain": [
              "<Figure size 800x600 with 0 Axes>"
            ]
          },
          "metadata": {}
        }
      ]
    },
    {
      "cell_type": "code",
      "source": [
        "plt.contourf(xx,yy,z,alpha=0.8,cmap=plt.cm.Paired)\n",
        "plt.scatter(X[:,0],X[:,1],c=y,edgecolor=\"k\",cmap=plt.cm.Paired)"
      ],
      "metadata": {
        "colab": {
          "base_uri": "https://localhost:8080/",
          "height": 452
        },
        "id": "ndE6FyGx_nhz",
        "outputId": "63efbeb3-32e4-4bbb-c484-33905c77d5d1"
      },
      "execution_count": 58,
      "outputs": [
        {
          "output_type": "execute_result",
          "data": {
            "text/plain": [
              "<matplotlib.collections.PathCollection at 0x7a328ee1e230>"
            ]
          },
          "metadata": {},
          "execution_count": 58
        },
        {
          "output_type": "display_data",
          "data": {
            "text/plain": [
              "<Figure size 640x480 with 1 Axes>"
            ],
            "image/png": "[encoded data removed]"
          },
          "metadata": {}
        }
      ]
    },
    {
      "cell_type": "code",
      "source": [],
      "metadata": {
        "id": "Ysyj-Nbk_2YB"
      },
      "execution_count": null,
      "outputs": []
    }
  ]
}